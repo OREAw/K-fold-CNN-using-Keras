{
 "cells": [
  {
   "cell_type": "code",
   "execution_count": null,
   "metadata": {},
   "outputs": [],
   "source": [
    "import numpy as np\n",
    "import pandas as pd\n",
    "import matplotlib.pyplot as plt\n",
    "import seaborn as sns\n",
    "from sklearn.preprocessing import StandardScaler\n",
    "from sklearn.model_selection import train_test_split,StratifiedKFold\n",
    "from sklearn.metrics import roc_auc_score, roc_curve,confusion_matrix, precision_score, recall_score, f1_score, cohen_kappa_score\n",
    "from keras.models import Sequential\n",
    "from keras.layers import Dense, Conv2D, Flatten"
   ]
  },
  {
   "cell_type": "code",
   "execution_count": null,
   "metadata": {},
   "outputs": [],
   "source": [
    "train = pd.read_csv(\"../K-fold_cnn/train.csv\")\n",
    "test = pd.read_csv(\"../K-fold_cnn/test.csv\")\n",
    "print(\"train shape:\", train.shape, \"test.shape:\", test.shape)"
   ]
  },
  {
   "cell_type": "code",
   "execution_count": null,
   "metadata": {},
   "outputs": [],
   "source": [
    "total1 = train[\"target\"].value_counts()[1]\n",
    "print(\"There are {} target values with 1, is about {}% of total data\".format(total1, 100 * total1/train.shape[0]))"
   ]
  },
  {
   "cell_type": "code",
   "execution_count": null,
   "metadata": {},
   "outputs": [],
   "source": [
    "train0 = train.loc[train['target'] == 0]\n",
    "train1 = train.loc[train['target'] == 1]\n",
    "print(train0.shape, train1.shape)\n",
    "splitNum = 2\n",
    "t0PerSplit = train0.shape[0] // splitNum\n",
    "print(t0PerSplit)\n",
    "splits = []\n",
    "for i in range(splitNum-1):\n",
    "    splits.append(pd.concat([train0[i*t0PerSplit:(i+1)*t0PerSplit], train1]).sample(frac=1))\n",
    "    print(splits[i].shape)\n",
    "splits.append(pd.concat([train0[(splitNum-1)*t0PerSplit:], train1]).sample(frac=1))\n",
    "print(splits[splitNum-1].shape)\n",
    "splits[splitNum-1].iloc[:,1].values[:100]"
   ]
  },
  {
   "cell_type": "code",
   "execution_count": null,
   "metadata": {},
   "outputs": [],
   "source": [
    "features = train.columns.values[2:202]\n",
    "scaler = StandardScaler()\n",
    "x_test = scaler.fit_transform(test[features])"
   ]
  },
  {
   "cell_type": "code",
   "execution_count": null,
   "metadata": {},
   "outputs": [],
   "source": [
    "#aler.fit_transform(test[features])\n",
    "X_test = x_test.reshape(200000,20,10,1)\n",
    "predictions = np.zeros(len(X_test)) \n",
    "print(X_test.shape, predictions.shape)\n",
    "for split_ in range(splitNum):\n",
    "    folds = StratifiedKFold(n_splits=10, shuffle=True, random_state=2019)\n",
    "    #train_s = splits[split_][features]\n",
    "    train_s =  scaler.transform(splits[split_][features])\n",
    "    target_s = splits[split_][\"target\"]\n",
    "    print(train_s.shape, target_s.shape)\n",
    "    prediction = np.zeros(len(test))\n",
    "    oof = np.zeros(len(train_s))\n",
    "    for fold_, (trn_idx, val_idx) in enumerate(folds.split(train_s, target_s)):\n",
    "        X_train, y_train = train_s[trn_idx], target_s.iloc[trn_idx]\n",
    "        X_train = X_train.reshape(trn_idx.shape[0], 20, 10, 1)\n",
    "        X_valid, y_valid = train_s[val_idx], target_s.iloc[val_idx]\n",
    "        X_valid = X_valid.reshape(val_idx.shape[0], 20, 10, 1)\n",
    "        print(\"Split:\", split_,  \"Fold:\",fold_, trn_idx.shape, val_idx.shape, X_train.shape, y_train.shape, X_valid.shape, y_valid.shape)\n",
    "        #create model\n",
    "        model = Sequential()\n",
    "        #add model layers\n",
    "        model.add(Conv2D(72, kernel_size=3, activation='relu', input_shape=(20,10,1)))\n",
    "        model.add(Conv2D(48, kernel_size=3, activation='relu'))\n",
    "        model.add(Flatten())\n",
    "        model.add(Dense(1, activation='sigmoid'))\n",
    "        #compile model using accuracy to measure model performance\n",
    "        model.compile(optimizer='adam', loss='binary_crossentropy', metrics=['accuracy'])\n",
    "        model.summary()\n",
    "        #train the model\n",
    "        model.fit(X_train, y_train, batch_size=100, validation_data=(X_valid, y_valid), epochs=10)\n",
    "    \n",
    "        y_pred = model.predict_classes(X_valid)\n",
    "        oof = model.predict_classes(X_valid)\n",
    "        # Confusion matrix\n",
    "        tn, fp, fn, tp = confusion_matrix(y_valid, y_pred).ravel()\n",
    "    \n",
    "        # Accuracy: Overall, how often is the classifier correct?  (tp+tn) / (tn+fp+fn+tp)\n",
    "        # Precision score, When it predicts yes, how often is it correct?  tp/(fp + tp)\n",
    "        # Specificity, True Negative Rate: When it's actually no, how often does it predict no? tn/(tn+fp)\n",
    "        # Recall score, or Sensitivity, True positive rate, When it's actually yes, how often does it predict yes? tp/(fn+tp)\n",
    "    \n",
    "        print(\"precision_score:\", tp/(fp + tp), \"specificity_score:\", tn/(tn+fp), \"recall_score:\", tp/(fn+tp))\n",
    "        # F1 score\n",
    "        print(\"f1_score\", f1_score(y_valid,y_pred))\n",
    "        print(\"CV score: {:<8.5f}\".format(roc_auc_score(y_valid, oof)))\n",
    "        # Cohen's kappa score\n",
    "        #cohen_kappa_score(y_valid, y_pred)\n",
    "    \n",
    "        prediction += model.predict_proba(X_test)[:,0] / folds.n_splits \n",
    "        #print(\"CV score: {:<8.5f}\".format(roc_auc_score(target_s, oof)))\n",
    "    predictions += prediction / splitNum "
   ]
  },
  {
   "cell_type": "code",
   "execution_count": null,
   "metadata": {},
   "outputs": [],
   "source": [
    "print(predictions.shape)\n",
    "predictions[:50]"
   ]
  },
  {
   "cell_type": "code",
   "execution_count": null,
   "metadata": {},
   "outputs": [],
   "source": [
    "sub = pd.DataFrame() \n",
    "sub[\"ID_code\"] = test[\"ID_code\"] \n",
    "sub[\"target\"] = predictions\n",
    "sub.to_csv(\"submission-cnn-ksplit.csv\", index=False)"
   ]
  },
  {
   "cell_type": "code",
   "execution_count": null,
   "metadata": {},
   "outputs": [],
   "source": []
  }
 ],
 "metadata": {
  "kernelspec": {
   "display_name": "Python 3",
   "language": "python",
   "name": "python3"
  },
  "language_info": {
   "codemirror_mode": {
    "name": "ipython",
    "version": 3
   },
   "file_extension": ".py",
   "mimetype": "text/x-python",
   "name": "python",
   "nbconvert_exporter": "python",
   "pygments_lexer": "ipython3",
   "version": "3.7.3"
  }
 },
 "nbformat": 4,
 "nbformat_minor": 2
}
